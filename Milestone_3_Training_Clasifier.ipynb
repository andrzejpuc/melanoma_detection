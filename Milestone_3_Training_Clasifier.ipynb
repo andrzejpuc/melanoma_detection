{
  "nbformat": 4,
  "nbformat_minor": 0,
  "metadata": {
    "kernelspec": {
      "display_name": "Python 3",
      "language": "python",
      "name": "python3"
    },
    "language_info": {
      "codemirror_mode": {
        "name": "ipython",
        "version": 3
      },
      "file_extension": ".py",
      "mimetype": "text/x-python",
      "name": "python",
      "nbconvert_exporter": "python",
      "pygments_lexer": "ipython3",
      "version": "3.6.9"
    },
    "colab": {
      "name": "Milestone_3_Training_Clasifier.ipynb",
      "provenance": [],
      "collapsed_sections": []
    },
    "accelerator": "GPU"
  },
  "cells": [
    {
      "cell_type": "markdown",
      "metadata": {
        "id": "XHmJYLzT0IxL"
      },
      "source": [
        "# 0. Workflow"
      ]
    },
    {
      "cell_type": "markdown",
      "metadata": {
        "id": "ACfGiucO0MYx"
      },
      "source": [
        "Train a deep convolutional neural network for (supervised) classification of melanoma positive and negative images. Compare the performance of the model trained from scratch to that which has been pre-trained on another dataset.\n",
        "\n",
        "**Workflow**\n",
        "\n",
        "- Use the labeled Dataset class from milestone 2 and separate the images in the labeled folder into train and validation sets.\n",
        "\n",
        "- Construct and train your supervised melanoma classifier.\n",
        "\n",
        "- Transfer learning is a popular machine learning (ML) approach when training data is scarce. Either choose a pre-trained model out of the ones available in the torchvision.models package, or train on a (large) dataset of choice, and fine-tune it on melanoma data. How does its performance compare to the fully supervised classifier that you trained from scratch in previous step?\n",
        "\n",
        "- When transfer learning does not prove to be sufficient, another option that we have is to take advantage of the unlabeled data by employing a semi-supervised ML strategy. Semi-supervised learning is a rapidly developing field, so the best place to look for the state-of-the-art methods is the famous arXiv.org, an open-access archive containing thousands of articles across numerous scientific disciplines, including computer science. Learning to work with the arXiv is an important skill for ML engineers involved in solving non trivial problems. Spend some time to find at least 2-3 different approaches that have shown to be successful in semi-supervised ML for computer vision applications, and list them along with the arXiv references that you found.\n",
        "\n"
      ]
    },
    {
      "cell_type": "markdown",
      "metadata": {
        "id": "YIdMRj9yDvbp"
      },
      "source": [
        "# First attempt to train classifier - overfitting"
      ]
    },
    {
      "cell_type": "markdown",
      "metadata": {
        "id": "LnA10ybaV0Mh"
      },
      "source": [
        "## 1. Training from scratch\n"
      ]
    },
    {
      "cell_type": "markdown",
      "metadata": {
        "id": "ORAChf8nypmH"
      },
      "source": [
        "Important imports."
      ]
    },
    {
      "cell_type": "code",
      "metadata": {
        "id": "4Shaje3vV0Ml"
      },
      "source": [
        "from __future__ import print_function, division\n",
        "import os\n",
        "import torch\n",
        "import pandas as pd\n",
        "import skimage\n",
        "from skimage import io, transform\n",
        "import numpy as np\n",
        "import matplotlib.pyplot as plt\n",
        "from torch.utils.data import Dataset, DataLoader\n",
        "import torch.optim as optim\n",
        "from torchvision import transforms, utils, models\n",
        "from PIL import Image\n",
        "import timeit                        # to evaluate elements of code\n",
        "import time\n",
        "import cv2\n",
        "import tensorflow.compat.v1 as tf    # to avoid attributeError:\n",
        "import random\n",
        "import tensorflow_addons as tfa\n",
        "import math\n",
        "import sklearn.model_selection\n",
        "from numba import cuda\n",
        "import torchvision\n",
        "from google.colab import drive       # to add data path\n",
        "import copy"
      ],
      "execution_count": 63,
      "outputs": []
    },
    {
      "cell_type": "markdown",
      "metadata": {
        "id": "IbZ44sXhmB9G"
      },
      "source": [
        "## 1.1 Data augmentation"
      ]
    },
    {
      "cell_type": "markdown",
      "metadata": {
        "id": "hs29_qprzH5Z"
      },
      "source": [
        "Using concepts from previous milestone."
      ]
    },
    {
      "cell_type": "code",
      "metadata": {
        "id": "8o8eqRCVxdBZ"
      },
      "source": [
        "class Rot_90_torch(object):\n",
        "    \"\"\"Rotate the object anticlockwise \n",
        "    by random number times 90 degree\"\"\"\n",
        "    def __init__(self):\n",
        "        r = np.linspace(-2, 2, 5)    # all possible rotations by 90 degree\n",
        "        k = random.choice(r)\n",
        "        self.no = int(k)\n",
        "    def __call__(self, img):\n",
        "        tr = transforms.RandomRotation((self.no*90, self.no*90))\n",
        "        return tr(img)"
      ],
      "execution_count": 64,
      "outputs": []
    },
    {
      "cell_type": "code",
      "metadata": {
        "id": "tY4Mg5lQYTbs"
      },
      "source": [
        "class Rot(object):\n",
        "    \"\"\"Flip the object with respect to first dimension.\"\"\"\n",
        "    def _largest_rotated_rect(self, w, h):\n",
        "        \"\"\"\n",
        "        Given a rectangle of size w x h that has been rotated by 'angle' (in\n",
        "        radians), computes the width and height of the largest possible\n",
        "        axis-aligned rectangle within the rotated rectangle.\n",
        "        Original JS code by 'Andri' and Magnus Hoff from Stack Overflow\n",
        "        Converted to Python by Aaron Snoswell\n",
        "        Source: http://stackoverflow.com/questions/16702966/rotate-image-and-crop-out-black-borders\n",
        "        \"\"\"\n",
        "        angle = math.radians(15)\n",
        "        quadrant = int(math.floor(angle / (math.pi / 2))) & 3\n",
        "        sign_alpha = angle if ((quadrant & 1) == 0) else math.pi - angle\n",
        "        alpha = (sign_alpha % math.pi + math.pi) % math.pi\n",
        "\n",
        "        bb_w = w * math.cos(alpha) + h * math.sin(alpha)\n",
        "        bb_h = w * math.sin(alpha) + h * math.cos(alpha)\n",
        "\n",
        "        gamma = math.atan2(bb_w, bb_w) if (w < h) else math.atan2(bb_w, bb_w)\n",
        "\n",
        "        delta = math.pi - alpha - gamma\n",
        "\n",
        "        length = h if (w < h) else w\n",
        "\n",
        "        d = length * math.cos(alpha)\n",
        "        a = d * math.sin(alpha) / math.sin(delta)\n",
        "\n",
        "        y = a * math.cos(gamma)\n",
        "        x = y * math.tan(gamma)\n",
        "\n",
        "        return (\n",
        "            bb_w - 2 * x,\n",
        "            bb_h - 2 * y\n",
        "        )\n",
        "    def __call__(self, img):\n",
        "        tr_0 = transforms.Resize(32)\n",
        "        tr_1 = transforms.RandomRotation((-15, 15), resample = Image.NEAREST)\n",
        "        img = tr_1(img)\n",
        "        lrr_width, lrr_height = self._largest_rotated_rect(32, 32)\n",
        "        tr_2 = transforms.CenterCrop((lrr_height,lrr_width))  \n",
        "        img = tr_0(tr_2(img))\n",
        "        return img"
      ],
      "execution_count": 65,
      "outputs": []
    },
    {
      "cell_type": "markdown",
      "metadata": {
        "id": "bjd9Zzf_BZgz"
      },
      "source": [
        "Augmentations were composed from the torchvision transforms and simple classes from previous milestone. Alternative, simpler augmentation can help with comparison."
      ]
    },
    {
      "cell_type": "code",
      "metadata": {
        "id": "tUsFgl06V0NH"
      },
      "source": [
        "augmentation = transforms.Compose([transforms.RandomHorizontalFlip(), transforms.RandomVerticalFlip(), \n",
        "                                   transforms.Resize(36), transforms.RandomCrop(32), Rot_90_torch(), Rot(), transforms.ToTensor()])\n",
        "\n",
        "# or alternative, simpler augmentation to comparison:\n",
        "# rotation = transforms.RandomChoice([transforms.RandomRotation([-3,3]),\n",
        "#                                     transforms.RandomRotation([87,93]), \n",
        "#                                     transforms.RandomRotation([177,183]),\n",
        "#                                     transforms.RandomRotation([267, 273])])\n",
        "# augmentation = transforms.Compose([transforms.RandomHorizontalFlip(), transforms.RandomVerticalFlip(), rotation, transforms.ToTensor()])"
      ],
      "execution_count": 66,
      "outputs": []
    },
    {
      "cell_type": "markdown",
      "metadata": {
        "id": "1c6z5H31m9J6"
      },
      "source": [
        "## 1.2 Dataset classes"
      ]
    },
    {
      "cell_type": "markdown",
      "metadata": {
        "id": "NCoRuAfFz1CR"
      },
      "source": [
        "Classes from previous milestone."
      ]
    },
    {
      "cell_type": "code",
      "metadata": {
        "id": "4Lugn5VIV0NT"
      },
      "source": [
        "class MelanomaDataset_unlab(Dataset):\n",
        "    \"\"\"melanoma detection dataset for unlabeled data set\"\"\"\n",
        "\n",
        "    def __init__(self, images_dir, transform = None, through = 'pil'):\n",
        "        \"\"\"\n",
        "        Args:\n",
        "            images_dir (string): directory with all the images.\n",
        "            transform (callable, optional): optional transform to be applied\n",
        "                on a sample.\n",
        "        \"\"\"\n",
        "        self.images_dir = images_dir\n",
        "        self.transform = transform\n",
        "        self.through = through\n",
        "\n",
        "    def __len__(self):\n",
        "        return len([i for i in os.listdir(self.images_dir) if '.jpg' in i])\n",
        "\n",
        "    def __getitem__(self, idx):\n",
        "        \n",
        "        img_name = os.path.join(self.images_dir,\n",
        "                                '{}.jpg'.format(str(idx)))\n",
        "        through = self.through\n",
        "        if through == 'skimage':\n",
        "            image = io.imread(img_name)\n",
        "        elif through == 'plt':\n",
        "            image = plt.imread(img_name, format = 'jpg')\n",
        "        elif through == 'pil':\n",
        "            image = Image.open(img_name)\n",
        "        elif through == 'cv':\n",
        "            image = cv2.imread(img_name)\n",
        "            image = cv2.cvtColor(image, cv2.COLOR_BGR2RGB)\n",
        "        else:\n",
        "            raise NameError(\"name '{}' is not defined.\".format(thro))\n",
        "        sample = image\n",
        "        if self.transform != None:\n",
        "            sample = self.transform(sample)\n",
        "        return sample\n",
        "\n",
        "class MelanomaDataset_lab(Dataset):\n",
        "    \"\"\"melanoma detection dataset for labelled data\"\"\"\n",
        "\n",
        "    def __init__(self, images_dir, transform = None, through = 'pil'):\n",
        "        \"\"\"\n",
        "        Args:\n",
        "            images_dir (string): directory with all the images.\n",
        "            transform (callable, optional): optional transform to be applied\n",
        "                on a sample.\n",
        "        \"\"\"\n",
        "        self.images_dir = images_dir\n",
        "        self.transform = transform\n",
        "        self.through = through\n",
        "\n",
        "    def __len__(self):\n",
        "        return len([i for i in os.listdir(self.images_dir) if '.jpg' in i])\n",
        "\n",
        "    def __getitem__(self, idx, through = 'cv'):\n",
        "        through = self.through\n",
        "        try:\n",
        "            img_name = os.path.join(self.images_dir,\n",
        "                                    '{}_1.jpg'.format(str(idx)));\\\n",
        "            label = 1\n",
        "            if through == 'skimage':\n",
        "                image = io.imread(img_name)\n",
        "            elif through == 'plt':\n",
        "                image = plt.imread(img_name, format = 'jpg')\n",
        "            elif through == 'pil':\n",
        "                image = Image.open(img_name)\n",
        "            elif through == 'cv':\n",
        "                image = cv2.imread(img_name)\n",
        "                image = cv2.cvtColor(image, cv2.COLOR_BGR2RGB)\n",
        "            else:\n",
        "                raise NameError(\"name '{}' is not defined.\".format(thro))\n",
        "        except:\n",
        "            img_name = os.path.join(self.images_dir,\n",
        "                                    '{}_0.jpg'.format(str(idx)));\n",
        "            label = 0\n",
        "            if through == 'skimage':\n",
        "                image = io.imread(img_name)\n",
        "            elif through == 'plt':\n",
        "                image = plt.imread(img_name, format = 'jpg')\n",
        "            elif through == 'pil':\n",
        "                image = Image.open(img_name)\n",
        "            elif through == 'cv':\n",
        "                image = cv2.imread(img_name)\n",
        "                image = cv2.cvtColor(image, cv2.COLOR_BGR2RGB)\n",
        "            else:\n",
        "                raise NameError(\"name '{}' is not defined.\".format(thro))\n",
        "        sample = image\n",
        "        if self.transform != None:\n",
        "            sample = self.transform(sample)\n",
        "        return sample, label"
      ],
      "execution_count": 67,
      "outputs": []
    },
    {
      "cell_type": "markdown",
      "metadata": {
        "id": "djz7V-wsnDR3"
      },
      "source": [
        "## 1.3 Mounting google drive"
      ]
    },
    {
      "cell_type": "code",
      "metadata": {
        "id": "ttJ6aSGAXr78",
        "outputId": "b1bf17ee-0fd8-4f05-fb5d-263e58e4e890",
        "colab": {
          "base_uri": "https://localhost:8080/"
        }
      },
      "source": [
        "drive.mount(\"/content/drive\")"
      ],
      "execution_count": 68,
      "outputs": [
        {
          "output_type": "stream",
          "text": [
            "Drive already mounted at /content/drive; to attempt to forcibly remount, call drive.mount(\"/content/drive\", force_remount=True).\n"
          ],
          "name": "stdout"
        }
      ]
    },
    {
      "cell_type": "code",
      "metadata": {
        "id": "AAk2NbKxZAKV"
      },
      "source": [
        "DATA_PATH = \"/content/drive/My Drive/Melanoma_dataset/\""
      ],
      "execution_count": 69,
      "outputs": []
    },
    {
      "cell_type": "code",
      "metadata": {
        "id": "ioChrZUJZTHW",
        "outputId": "52f40c36-53d6-4450-be78-c9ff9b5b4f89",
        "colab": {
          "base_uri": "https://localhost:8080/"
        }
      },
      "source": [
        "!ls \"$DATA_PATH\""
      ],
      "execution_count": 70,
      "outputs": [
        {
          "output_type": "stream",
          "text": [
            "labeled\t\t\t     second_model_batch_size_16.pt  unlabeled\n",
            "second_attempt_resnet_18.pt  test\n"
          ],
          "name": "stdout"
        }
      ]
    },
    {
      "cell_type": "markdown",
      "metadata": {
        "id": "KldYHEUanLuM"
      },
      "source": [
        "## 1.4 Declaring data sets"
      ]
    },
    {
      "cell_type": "code",
      "metadata": {
        "id": "aDdVj9zoV0Nq",
        "outputId": "327f4d55-7065-42ce-dd35-9e5fa172bf38",
        "colab": {
          "base_uri": "https://localhost:8080/"
        }
      },
      "source": [
        "unlabeled_set = MelanomaDataset_unlab(\"/content/drive/My Drive/Melanoma_dataset/unlabeled\", transform = augmentation)\n",
        "labeled_set = MelanomaDataset_lab(\"/content/drive/My Drive/Melanoma_dataset/labeled/\", transform = augmentation)\n",
        "test_set = MelanomaDataset_lab(\"/content/drive/My Drive/Melanoma_dataset/test\", transform = transforms.Compose([transforms.ToTensor()]))\n",
        "\n",
        "print('Number of TEST images: ', len(test_set))\n",
        "print('Number of LABELED images: ', len(labeled_set))\n",
        "print('Number of UNLABELED images: ', len(unlabeled_set))"
      ],
      "execution_count": 99,
      "outputs": [
        {
          "output_type": "stream",
          "text": [
            "Number of TEST images:  600\n",
            "Number of LABELED images:  200\n",
            "Number of UNLABELED images:  7018\n"
          ],
          "name": "stdout"
        }
      ]
    },
    {
      "cell_type": "code",
      "metadata": {
        "id": "3-OseB-uV0N0"
      },
      "source": [
        "#unlabeled_set_1 = MelanomaDataset_unlab('MelanomaDetection/MelanomaDetection/unlabeled', transform = transforms.ToTensor())\n",
        "#labeled_set_1 = MelanomaDataset_lab('MelanomaDetection/MelanomaDetection/labeled', transform = transforms.ToTensor())"
      ],
      "execution_count": 100,
      "outputs": []
    },
    {
      "cell_type": "code",
      "metadata": {
        "id": "A6JG_YTzV0OU"
      },
      "source": [
        "X_train, X_eval = torch.utils.data.random_split(labeled_set, [170, 30])"
      ],
      "execution_count": 101,
      "outputs": []
    },
    {
      "cell_type": "code",
      "metadata": {
        "id": "c3Pb-koNV0Oe",
        "outputId": "f5eeb274-50e3-485f-cf87-647091a3ffa9",
        "colab": {
          "base_uri": "https://localhost:8080/"
        }
      },
      "source": [
        "print('Training set:', len(X_train))"
      ],
      "execution_count": 102,
      "outputs": [
        {
          "output_type": "stream",
          "text": [
            "Training set: 170\n"
          ],
          "name": "stdout"
        }
      ]
    },
    {
      "cell_type": "code",
      "metadata": {
        "id": "2EcJbm-xV0Om",
        "outputId": "d41590f4-2f32-40c7-a984-42950189e4a4",
        "colab": {
          "base_uri": "https://localhost:8080/"
        }
      },
      "source": [
        "print('Valuation set:', len(X_eval))"
      ],
      "execution_count": 103,
      "outputs": [
        {
          "output_type": "stream",
          "text": [
            "Valuation set: 30\n"
          ],
          "name": "stdout"
        }
      ]
    },
    {
      "cell_type": "markdown",
      "metadata": {
        "id": "bSxhpd7MJgPv"
      },
      "source": [
        "Visualisation of sample batch from DataLoader above."
      ]
    },
    {
      "cell_type": "code",
      "metadata": {
        "id": "QMqGlKvWyTsL",
        "outputId": "6e1518af-40e9-4645-f585-0b21d8b55f11",
        "colab": {
          "base_uri": "https://localhost:8080/",
          "height": 554
        }
      },
      "source": [
        "labeled_loader = DataLoader(labeled_set, batch_size=12, shuffle=True, num_workers=16)\n",
        "\n",
        "for batch_idx, batch in enumerate(labeled_loader):\n",
        "    \n",
        "    '''\n",
        "    Here the batch contains both images and labels.\n",
        "    '''\n",
        "    \n",
        "    # Stop after two batches\n",
        "    if batch_idx == 2:\n",
        "        break\n",
        "\n",
        "    print(\"Batch labels: \", batch[1].data)\n",
        "    \n",
        "    # torchvision provides functions that facilitate displaying batches\n",
        "    # of images that come in the form of PyTorch tensors:\n",
        "    image_grid = torchvision.utils.make_grid(batch[0], nrow=4)\n",
        "    plt.imshow(image_grid.permute(1, 2, 0))\n",
        "    plt.pause(0.05)"
      ],
      "execution_count": 104,
      "outputs": [
        {
          "output_type": "stream",
          "text": [
            "Batch labels:  tensor([0, 1, 0, 1, 1, 1, 1, 1, 1, 0, 0, 1])\n"
          ],
          "name": "stdout"
        },
        {
          "output_type": "display_data",
          "data": {
            "image/png": "[encoded data removed]",
            "text/plain": [
              "<Figure size 432x288 with 1 Axes>"
            ]
          },
          "metadata": {
            "tags": [],
            "needs_background": "light"
          }
        },
        {
          "output_type": "stream",
          "text": [
            "Batch labels:  tensor([0, 1, 1, 1, 1, 0, 0, 0, 0, 0, 0, 1])\n"
          ],
          "name": "stdout"
        },
        {
          "output_type": "display_data",
          "data": {
            "image/png": "[encoded data removed]",
            "text/plain": [
              "<Figure size 432x288 with 1 Axes>"
            ]
          },
          "metadata": {
            "tags": [],
            "needs_background": "light"
          }
        }
      ]
    },
    {
      "cell_type": "markdown",
      "metadata": {
        "id": "zk33R1LuMfBc"
      },
      "source": [
        "## 1.5 Training the network from scratch on GPU without normalisation"
      ]
    },
    {
      "cell_type": "code",
      "metadata": {
        "id": "0RFfO2tpMDyE"
      },
      "source": [
        "import torch.nn.functional as F\n",
        "import torch.nn as nn\n",
        "\n",
        "class Net(nn.Module):\n",
        "    def __init__(self):\n",
        "        super().__init__()\n",
        "        self.conv1 = nn.Conv2d(3, 16, kernel_size = 3, padding = 1)\n",
        "        self.conv2 = nn.Conv2d(16, 8, kernel_size = 3, padding = 1)\n",
        "        self.fc1 = nn.Linear(8 * 8 * 8, 32)\n",
        "        self.fc2 = nn.Linear(32, 2)\n",
        " \n",
        "    def forward(self, x):\n",
        "        out = F.max_pool2d(torch.tanh(self.conv1(x)), 2)\n",
        "        out = F.max_pool2d(torch.tanh(self.conv2(out)), 2)\n",
        "        #out = F.max_pool2d(torch.tanh(self.conv3(out)), 2)\n",
        "        out = out.view(-1, 8 * 8 * 8)\n",
        "        out = torch.tanh(self.fc1(out))\n",
        "        out = self.fc2(out)\n",
        "        return out\n",
        "\n",
        "# Code below is JUST guidance/notes on adding layers, adding new layers did not enhanced learning in this case\n",
        "# import torch.nn.functional as F\n",
        "# import torch.nn as nn\n",
        "\n",
        "# class Net(nn.Module):\n",
        "#     def __init__(self):\n",
        "#         super().__init__()\n",
        "#         self.conv1 = nn.Conv2d(3, 128, kernel_size = 3, padding = 1)\n",
        "#         self.conv2 = nn.Conv2d(128, 64, kernel_size = 3, padding = 1)\n",
        "#         self.conv4 = nn.Conv2d(64, 32, kernel_size = 3, padding = 1)\n",
        "#         self.conv5 = nn.Conv2d(32, 16, kernel_size = 3, padding = 1)\n",
        "#         self.conv6 = nn.Conv2d(16, 8, kernel_size = 3, padding = 1)\n",
        "#         self.fc1 = nn.Linear(8 * 1 * 1, 32)\n",
        "#         self.fc2 = nn.Linear(32, 2)\n",
        " \n",
        "#     def forward(self, x):\n",
        "#         out = F.max_pool2d(torch.tanh(self.conv1(x)), 2)\n",
        "#         # print(out.shape)\n",
        "#         out = F.max_pool2d(torch.tanh(self.conv2(out)), 2)\n",
        "#         # print(out.shape)\n",
        "#         out = F.max_pool2d(torch.tanh(self.conv4(out)), 2)\n",
        "#         # print(out.shape)\n",
        "#         out = F.max_pool2d(torch.tanh(self.conv5(out)), 2)\n",
        "#         # print(out.shape)\n",
        "#         out = F.max_pool2d(torch.tanh(self.conv6(out)), 2)\n",
        "#         # print(out.shape)\n",
        "#         out = out.view(-1, 8 * 1 * 1)\n",
        "#         # print(out.shape)\n",
        "#         out = torch.tanh(self.fc1(out))\n",
        "#         # print(out.shape)\n",
        "#         out = self.fc2(out)\n",
        "#         return out"
      ],
      "execution_count": 105,
      "outputs": []
    },
    {
      "cell_type": "code",
      "metadata": {
        "id": "IZnwlofiMDyd"
      },
      "source": [
        "import datetime\n",
        "\n",
        "def training_loop(n_epochs, optimizer, model, loss_fn, train_loader):\n",
        "    for epoch in range(1, n_epochs + 1):\n",
        "        loss_train = 0.0\n",
        "        for imgs, labels in train_loader:\n",
        " \n",
        "            outputs = model(imgs)\n",
        " \n",
        "            loss = loss_fn(outputs, labels)\n",
        " \n",
        "            optimizer.zero_grad()\n",
        " \n",
        "            loss.backward()\n",
        " \n",
        "            optimizer.step()\n",
        " \n",
        "            loss_train += loss.item()\n",
        " \n",
        "        if epoch == 1 or epoch % 100 == 0:\n",
        "          print('{} Epoch {}, Training loss {}'.format(\n",
        "              datetime.datetime.now(), epoch,\n",
        "              loss_train / len(train_loader)))"
      ],
      "execution_count": 106,
      "outputs": []
    },
    {
      "cell_type": "code",
      "metadata": {
        "id": "Rx0X8WP6MDyv",
        "outputId": "f2e73eb6-150d-4cbf-a928-c8ca23b66d5c",
        "colab": {
          "base_uri": "https://localhost:8080/"
        }
      },
      "source": [
        "device = (torch.device('cuda') if torch.cuda.is_available()\n",
        "         else torch.device('cpu'))\n",
        "print(f\"Training on device {device}.\")"
      ],
      "execution_count": 107,
      "outputs": [
        {
          "output_type": "stream",
          "text": [
            "Training on device cuda.\n"
          ],
          "name": "stdout"
        }
      ]
    },
    {
      "cell_type": "code",
      "metadata": {
        "id": "S5dv4bdnMDy6"
      },
      "source": [
        "import datetime\n",
        "\n",
        "\n",
        "def training_loop(n_epochs, optimizer, model, loss_fn, train_loader):\n",
        "    for epoch in range(1, n_epochs + 1):\n",
        "        loss_train = 0.0\n",
        "        for imgs, labels in train_loader:\n",
        "            imgs = imgs.to(device = device)\n",
        "            labels = labels.to(device = device)\n",
        "            outputs = model(imgs)\n",
        "            loss = loss_fn(outputs, labels)\n",
        " \n",
        "            optimizer.zero_grad()\n",
        "            loss.backward()\n",
        "            optimizer.step()\n",
        " \n",
        "            loss_train += loss.item()\n",
        " \n",
        "        if epoch == 1 or epoch % 100 == 0:\n",
        "            print('{} Epoch {}, Training loss {}'.format(\n",
        "                datetime.datetime.now(), epoch,\n",
        "                loss_train / len(train_loader)))"
      ],
      "execution_count": 108,
      "outputs": []
    },
    {
      "cell_type": "code",
      "metadata": {
        "id": "jnB10a3qMDzD"
      },
      "source": [
        "config = tf.ConfigProto()\n",
        "config.gpu_options.allow_growth = True"
      ],
      "execution_count": 109,
      "outputs": []
    },
    {
      "cell_type": "code",
      "metadata": {
        "id": "sF_6r_auMDzM",
        "outputId": "c34ce91a-6cfc-48d9-c150-9c8a570bfd06",
        "colab": {
          "base_uri": "https://localhost:8080/"
        }
      },
      "source": [
        "train_loader = torch.utils.data.DataLoader(X_train, batch_size = len(X_train),\n",
        "                                           shuffle = False)\n",
        "model = Net().to(device=device)\n",
        "optimizer = torch.optim.SGD(model.parameters(), lr = 1e-3)\n",
        "loss_fn = nn.CrossEntropyLoss()\n",
        " \n",
        "training_loop(\n",
        "    n_epochs = 1000,\n",
        "    optimizer = optimizer,\n",
        "    model = model,\n",
        "    loss_fn = loss_fn,\n",
        "    train_loader = train_loader,\n",
        ")"
      ],
      "execution_count": 110,
      "outputs": [
        {
          "output_type": "stream",
          "text": [
            "2020-10-08 21:52:17.743273 Epoch 1, Training loss 0.6956878900527954\n",
            "2020-10-08 21:52:44.976833 Epoch 100, Training loss 0.6960552334785461\n",
            "2020-10-08 21:53:09.471030 Epoch 200, Training loss 0.6940908432006836\n",
            "2020-10-08 21:53:33.913853 Epoch 300, Training loss 0.6943427920341492\n",
            "2020-10-08 21:53:58.700831 Epoch 400, Training loss 0.6943771839141846\n",
            "2020-10-08 21:54:23.497651 Epoch 500, Training loss 0.69346684217453\n",
            "2020-10-08 21:54:48.211777 Epoch 600, Training loss 0.6941206455230713\n",
            "2020-10-08 21:55:13.425816 Epoch 700, Training loss 0.6929241418838501\n",
            "2020-10-08 21:55:38.160399 Epoch 800, Training loss 0.693187952041626\n",
            "2020-10-08 21:56:02.907222 Epoch 900, Training loss 0.6923287510871887\n",
            "2020-10-08 21:56:27.514252 Epoch 1000, Training loss 0.6913384199142456\n"
          ],
          "name": "stdout"
        }
      ]
    },
    {
      "cell_type": "code",
      "metadata": {
        "id": "zo2Tc7wEMDzU",
        "outputId": "3f34af04-bb63-4c7c-f1f6-214cf1c231b0",
        "colab": {
          "base_uri": "https://localhost:8080/"
        }
      },
      "source": [
        "torch.save(model.state_dict(), DATA_PATH + 'second_model.pt')\n",
        "model = Net().to(device=device)\n",
        "model.load_state_dict(torch.load(DATA_PATH + 'second_model.pt'))"
      ],
      "execution_count": 111,
      "outputs": [
        {
          "output_type": "execute_result",
          "data": {
            "text/plain": [
              "<All keys matched successfully>"
            ]
          },
          "metadata": {
            "tags": []
          },
          "execution_count": 111
        }
      ]
    },
    {
      "cell_type": "code",
      "metadata": {
        "id": "up8Kx5hdMDzc",
        "outputId": "9c77b140-b3d8-4cc1-a5e7-2af7cb20a93f",
        "colab": {
          "base_uri": "https://localhost:8080/"
        }
      },
      "source": [
        "train_loader = torch.utils.data.DataLoader(X_train, batch_size = 64,\n",
        "                                           shuffle = True)\n",
        "val_loader = torch.utils.data.DataLoader(X_eval, batch_size = 64,\n",
        "                                         shuffle = True)\n",
        " \n",
        "def validate(model, train_loader, val_loader):\n",
        "    for name, loader in [(\"train\", train_loader), (\"val\", val_loader)]:\n",
        "        correct = 0\n",
        "        total = 0\n",
        " \n",
        "        with torch.no_grad():\n",
        "            for imgs, labels in loader:\n",
        "                imgs = imgs.to(device)\n",
        "                labels = labels.to(device)\n",
        "                outputs = model(imgs)\n",
        "                _, predicted = torch.max(outputs, dim=1)\n",
        "                total += labels.shape[0]\n",
        "                correct += int((predicted == labels).sum())\n",
        " \n",
        "        print(\"Accuracy {}: {:.2f}\".format(name , correct / total))\n",
        " \n",
        "validate(model, train_loader, val_loader)"
      ],
      "execution_count": 112,
      "outputs": [
        {
          "output_type": "stream",
          "text": [
            "Accuracy train: 0.50\n",
            "Accuracy val: 0.53\n"
          ],
          "name": "stdout"
        }
      ]
    },
    {
      "cell_type": "code",
      "metadata": {
        "id": "mZ16fawMMDzm",
        "outputId": "e7bdc21b-a2d5-4aba-bb8e-0c98dab3b89d",
        "colab": {
          "base_uri": "https://localhost:8080/"
        }
      },
      "source": [
        "val_loader = torch.utils.data.DataLoader(test_set, batch_size = 64,\n",
        "                                         shuffle = True)\n",
        " \n",
        "def validate(model, train_loader, val_loader):\n",
        "    for name, loader in [(\"train\", train_loader), (\"test\", val_loader)]:\n",
        "        correct = 0\n",
        "        total = 0\n",
        " \n",
        "        with torch.no_grad():\n",
        "            for imgs, labels in loader:\n",
        "                imgs = imgs.to(device)\n",
        "                labels = labels.to(device)\n",
        "                outputs = model(imgs)\n",
        "                _, predicted = torch.max(outputs, dim=1)\n",
        "                total += labels.shape[0]\n",
        "                correct += int((predicted == labels).sum())\n",
        " \n",
        "        print(\"Accuracy {}: {:.2f}\".format(name , correct / total))\n",
        " \n",
        "validate(model, train_loader, val_loader)"
      ],
      "execution_count": 113,
      "outputs": [
        {
          "output_type": "stream",
          "text": [
            "Accuracy train: 0.50\n",
            "Accuracy test: 0.50\n"
          ],
          "name": "stdout"
        }
      ]
    },
    {
      "cell_type": "markdown",
      "metadata": {
        "id": "OzEfgsQZOIaV"
      },
      "source": [
        "Here it is obvious that model above is no better than baseline of random choice."
      ]
    },
    {
      "cell_type": "markdown",
      "metadata": {
        "id": "_Txx_Y3Unlah"
      },
      "source": [
        "## 1.6 Finding the norm of images to use normalisation"
      ]
    },
    {
      "cell_type": "code",
      "metadata": {
        "id": "DZ-s1Y2EawwE",
        "outputId": "b9e121b1-4165-4998-dfc5-cf027f60b3b2",
        "colab": {
          "base_uri": "https://localhost:8080/"
        }
      },
      "source": [
        "norm = DataLoader(labeled_set, batch_size = 12, shuffle = False, num_workers = 16)\n",
        "\n",
        "nimages = 0\n",
        "mean = 0.\n",
        "std = 0.\n",
        "for batch, _ in norm:\n",
        "    # Rearrange batch to be the shape of [B, C, W * H]\n",
        "    batch = batch.view(batch.size(0), batch.size(1), -1)\n",
        "    # Update total number of images\n",
        "    nimages += batch.size(0)\n",
        "    # Compute mean and std here\n",
        "    mean += batch.mean(2).sum(0) \n",
        "    std += batch.std(2).sum(0)\n",
        "\n",
        "# Final step\n",
        "mean /= nimages\n",
        "std /= nimages\n",
        "\n",
        "print('Mean of images in dataset: ', mean)\n",
        "print('Standard deviation of images in dataset: ', std)\n",
        "\n",
        "normalization = transforms.Normalize(mean, std)"
      ],
      "execution_count": 20,
      "outputs": [
        {
          "output_type": "stream",
          "text": [
            "Mean of images in dataset:  tensor([0.7121, 0.4809, 0.4936])\n",
            "Standard deviation of images in dataset:  tensor([0.1017, 0.1319, 0.1446])\n"
          ],
          "name": "stdout"
        }
      ]
    },
    {
      "cell_type": "markdown",
      "metadata": {
        "id": "uVOPvRh9oezc"
      },
      "source": [
        "Composed augmentations with normalisation:"
      ]
    },
    {
      "cell_type": "code",
      "metadata": {
        "id": "aXUsDtEWdeSh"
      },
      "source": [
        "augmentation_1 = transforms.Compose([transforms.RandomHorizontalFlip(), transforms.RandomVerticalFlip(), transforms.Resize(36), transforms.RandomCrop(32), Rot_90_torch(), Rot(), transforms.ToTensor(),normalization])"
      ],
      "execution_count": 21,
      "outputs": []
    },
    {
      "cell_type": "code",
      "metadata": {
        "id": "tHTaNakBhC3R"
      },
      "source": [
        "unlabeled_set_n = MelanomaDataset_unlab(\"/content/drive/My Drive/Melanoma_dataset/unlabeled\", transform = augmentation_1)\n",
        "labeled_set_n = MelanomaDataset_lab(\"/content/drive/My Drive/Melanoma_dataset/labeled/\", transform = augmentation_1)\n",
        "test_set_n = MelanomaDataset_lab(\"/content/drive/My Drive/Melanoma_dataset/test\", transform = transforms.Compose([transforms.ToTensor(), normalization]))\n",
        "X_train_n, X_eval_n = torch.utils.data.random_split(labeled_set_n, [170, 30])"
      ],
      "execution_count": 89,
      "outputs": []
    },
    {
      "cell_type": "markdown",
      "metadata": {
        "id": "CtGbrMklV0P2"
      },
      "source": [
        "### 1.6.1 Training the normalised images network from scratch on GPU"
      ]
    },
    {
      "cell_type": "code",
      "metadata": {
        "id": "mutsNpkOV0OD"
      },
      "source": [
        "import torch.nn.functional as F\n",
        "import torch.nn as nn\n",
        "\n",
        "class Net(nn.Module):\n",
        "    def __init__(self):\n",
        "        super().__init__()\n",
        "        self.conv1 = nn.Conv2d(3, 16, kernel_size = 3, padding = 1)\n",
        "        self.conv2 = nn.Conv2d(16, 8, kernel_size = 3, padding = 1)\n",
        "        self.fc1 = nn.Linear(8 * 8 * 8, 32)\n",
        "        self.fc2 = nn.Linear(32, 2)\n",
        " \n",
        "    def forward(self, x):\n",
        "        out = F.max_pool2d(torch.tanh(self.conv1(x)), 2)\n",
        "        out = F.max_pool2d(torch.tanh(self.conv2(out)), 2)\n",
        "        #out = F.max_pool2d(torch.tanh(self.conv3(out)), 2)\n",
        "        out = out.view(-1, 8 * 8 * 8)\n",
        "        out = torch.tanh(self.fc1(out))\n",
        "        out = self.fc2(out)\n",
        "        return out\n",
        "\n",
        "# Code below is JUST guidance/notes on adding layers, adding new layers did not enhanced learning in this case\n",
        "# import torch.nn.functional as F\n",
        "# import torch.nn as nn\n",
        "\n",
        "# class Net(nn.Module):\n",
        "#     def __init__(self):\n",
        "#         super().__init__()\n",
        "#         self.conv1 = nn.Conv2d(3, 128, kernel_size = 3, padding = 1)\n",
        "#         self.conv2 = nn.Conv2d(128, 64, kernel_size = 3, padding = 1)\n",
        "#         self.conv4 = nn.Conv2d(64, 32, kernel_size = 3, padding = 1)\n",
        "#         self.conv5 = nn.Conv2d(32, 16, kernel_size = 3, padding = 1)\n",
        "#         self.conv6 = nn.Conv2d(16, 8, kernel_size = 3, padding = 1)\n",
        "#         self.fc1 = nn.Linear(8 * 1 * 1, 32)\n",
        "#         self.fc2 = nn.Linear(32, 2)\n",
        " \n",
        "#     def forward(self, x):\n",
        "#         out = F.max_pool2d(torch.tanh(self.conv1(x)), 2)\n",
        "#         # print(out.shape)\n",
        "#         out = F.max_pool2d(torch.tanh(self.conv2(out)), 2)\n",
        "#         # print(out.shape)\n",
        "#         out = F.max_pool2d(torch.tanh(self.conv4(out)), 2)\n",
        "#         # print(out.shape)\n",
        "#         out = F.max_pool2d(torch.tanh(self.conv5(out)), 2)\n",
        "#         # print(out.shape)\n",
        "#         out = F.max_pool2d(torch.tanh(self.conv6(out)), 2)\n",
        "#         # print(out.shape)\n",
        "#         out = out.view(-1, 8 * 1 * 1)\n",
        "#         # print(out.shape)\n",
        "#         out = torch.tanh(self.fc1(out))\n",
        "#         # print(out.shape)\n",
        "#         out = self.fc2(out)\n",
        "#         return out"
      ],
      "execution_count": 90,
      "outputs": []
    },
    {
      "cell_type": "code",
      "metadata": {
        "id": "jV1IFb3DV0OM"
      },
      "source": [
        "import datetime\n",
        "\n",
        "def training_loop(n_epochs, optimizer, model, loss_fn, train_loader):\n",
        "    for epoch in range(1, n_epochs + 1):\n",
        "        loss_train = 0.0\n",
        "        for imgs, labels in train_loader:\n",
        " \n",
        "            outputs = model(imgs)\n",
        " \n",
        "            loss = loss_fn(outputs, labels)\n",
        " \n",
        "            optimizer.zero_grad()\n",
        " \n",
        "            loss.backward()\n",
        " \n",
        "            optimizer.step()\n",
        " \n",
        "            loss_train += loss.item()\n",
        " \n",
        "        if epoch == 1 or epoch % 100 == 0:\n",
        "          print('{} Epoch {}, Training loss {}'.format(\n",
        "              datetime.datetime.now(), epoch,\n",
        "              loss_train / len(train_loader)))"
      ],
      "execution_count": 91,
      "outputs": []
    },
    {
      "cell_type": "code",
      "metadata": {
        "id": "aJX9XoYZV0P8",
        "outputId": "9c3a1ddd-17ba-4540-85c4-9d40941b4718",
        "colab": {
          "base_uri": "https://localhost:8080/"
        }
      },
      "source": [
        "device = (torch.device('cuda') if torch.cuda.is_available()\n",
        "         else torch.device('cpu'))\n",
        "print(f\"Training on device {device}.\")"
      ],
      "execution_count": 92,
      "outputs": [
        {
          "output_type": "stream",
          "text": [
            "Training on device cuda.\n"
          ],
          "name": "stdout"
        }
      ]
    },
    {
      "cell_type": "code",
      "metadata": {
        "id": "LKPwxfT4V0QB"
      },
      "source": [
        "import datetime\n",
        "\n",
        "\n",
        "def training_loop(n_epochs, optimizer, model, loss_fn, train_loader):\n",
        "    for epoch in range(1, n_epochs + 1):\n",
        "        loss_train = 0.0\n",
        "        for imgs, labels in train_loader:\n",
        "            imgs = imgs.to(device = device)\n",
        "            labels = labels.to(device = device)\n",
        "            outputs = model(imgs)\n",
        "            loss = loss_fn(outputs, labels)\n",
        " \n",
        "            optimizer.zero_grad()\n",
        "            loss.backward()\n",
        "            optimizer.step()\n",
        " \n",
        "            loss_train += loss.item()\n",
        " \n",
        "        if epoch == 1 or epoch % 100 == 0:\n",
        "            print('{} Epoch {}, Training loss {}'.format(\n",
        "                datetime.datetime.now(), epoch,\n",
        "                loss_train / len(train_loader)))"
      ],
      "execution_count": 93,
      "outputs": []
    },
    {
      "cell_type": "code",
      "metadata": {
        "id": "GHFKdeyaV0QJ"
      },
      "source": [
        "config = tf.ConfigProto()\n",
        "config.gpu_options.allow_growth = True"
      ],
      "execution_count": 94,
      "outputs": []
    },
    {
      "cell_type": "code",
      "metadata": {
        "id": "_w_ZjBifV0QN",
        "outputId": "4605b8ed-52ae-493b-aca3-67109075bec5",
        "colab": {
          "base_uri": "https://localhost:8080/"
        }
      },
      "source": [
        "train_loader = torch.utils.data.DataLoader(X_train_n, batch_size = len(X_train_n),\n",
        "                                           shuffle = False)\n",
        "model = Net().to(device=device)\n",
        "optimizer = torch.optim.SGD(model.parameters(), lr = 1e-3)\n",
        "loss_fn = nn.CrossEntropyLoss()\n",
        " \n",
        "training_loop(\n",
        "    n_epochs = 1000,\n",
        "    optimizer = optimizer,\n",
        "    model = model,\n",
        "    loss_fn = loss_fn,\n",
        "    train_loader = train_loader,\n",
        ")"
      ],
      "execution_count": 95,
      "outputs": [
        {
          "output_type": "stream",
          "text": [
            "2020-10-08 21:45:05.803954 Epoch 1, Training loss 0.6805130243301392\n",
            "2020-10-08 21:45:33.741738 Epoch 100, Training loss 0.6251981854438782\n",
            "2020-10-08 21:46:01.830152 Epoch 200, Training loss 0.5838743448257446\n",
            "2020-10-08 21:46:29.274803 Epoch 300, Training loss 0.5604255199432373\n",
            "2020-10-08 21:46:56.388936 Epoch 400, Training loss 0.5477787852287292\n",
            "2020-10-08 21:47:25.562454 Epoch 500, Training loss 0.543626606464386\n",
            "2020-10-08 21:47:52.308237 Epoch 600, Training loss 0.5366011261940002\n",
            "2020-10-08 21:48:18.945258 Epoch 700, Training loss 0.5323134660720825\n",
            "2020-10-08 21:48:46.029327 Epoch 800, Training loss 0.5314285159111023\n",
            "2020-10-08 21:49:12.955072 Epoch 900, Training loss 0.528351902961731\n",
            "2020-10-08 21:49:39.981816 Epoch 1000, Training loss 0.5239734649658203\n"
          ],
          "name": "stdout"
        }
      ]
    },
    {
      "cell_type": "markdown",
      "metadata": {
        "id": "-vembG6a-mbx"
      },
      "source": [
        "Saving and loading back the trained model."
      ]
    },
    {
      "cell_type": "code",
      "metadata": {
        "id": "SLlleKayV0QT",
        "outputId": "a92ef459-0c88-4e77-a073-e8ad4f25eac6",
        "colab": {
          "base_uri": "https://localhost:8080/"
        }
      },
      "source": [
        "torch.save(model.state_dict(), DATA_PATH + 'second_model_batch_size_16_normalised_samples.pt')\n",
        "model = Net().to(device=device)\n",
        "model.load_state_dict(torch.load(DATA_PATH + 'second_model_batch_size_16_normalised_samples.pt'))"
      ],
      "execution_count": 96,
      "outputs": [
        {
          "output_type": "execute_result",
          "data": {
            "text/plain": [
              "<All keys matched successfully>"
            ]
          },
          "metadata": {
            "tags": []
          },
          "execution_count": 96
        }
      ]
    },
    {
      "cell_type": "code",
      "metadata": {
        "id": "VnIjmMTSyHDc",
        "outputId": "a72d7efa-4de3-4a05-9ccc-1b54a78d3aa3",
        "colab": {
          "base_uri": "https://localhost:8080/"
        }
      },
      "source": [
        "train_loader = torch.utils.data.DataLoader(X_train_n, batch_size = 64,\n",
        "                                           shuffle = True)\n",
        "val_loader = torch.utils.data.DataLoader(X_eval_n, batch_size = 64,\n",
        "                                         shuffle = True)\n",
        " \n",
        "def validate(model, train_loader, val_loader):\n",
        "    for name, loader in [(\"train\", train_loader), (\"val\", val_loader)]:\n",
        "        correct = 0\n",
        "        total = 0\n",
        " \n",
        "        with torch.no_grad():\n",
        "            for imgs, labels in loader:\n",
        "                imgs = imgs.to(device)\n",
        "                labels = labels.to(device)\n",
        "                outputs = model(imgs)\n",
        "                _, predicted = torch.max(outputs, dim=1)\n",
        "                total += labels.shape[0]\n",
        "                correct += int((predicted == labels).sum())\n",
        " \n",
        "        print(\"Accuracy {}: {:.2f}\".format(name , correct / total))\n",
        " \n",
        "validate(model, train_loader, val_loader)"
      ],
      "execution_count": 97,
      "outputs": [
        {
          "output_type": "stream",
          "text": [
            "Accuracy train: 0.78\n",
            "Accuracy val: 0.70\n"
          ],
          "name": "stdout"
        }
      ]
    },
    {
      "cell_type": "code",
      "metadata": {
        "id": "_cD5vk7wkjKt",
        "outputId": "37c28109-ee62-45e6-9501-b163ed30f46b",
        "colab": {
          "base_uri": "https://localhost:8080/"
        }
      },
      "source": [
        "val_loader = torch.utils.data.DataLoader(test_set_n, batch_size = 64,\n",
        "                                         shuffle = True)\n",
        " \n",
        "def validate(model, train_loader, val_loader):\n",
        "    for name, loader in [(\"train\", train_loader), (\"test\", val_loader)]:\n",
        "        correct = 0\n",
        "        total = 0\n",
        " \n",
        "        with torch.no_grad():\n",
        "            for imgs, labels in loader:\n",
        "                imgs = imgs.to(device)\n",
        "                labels = labels.to(device)\n",
        "                outputs = model(imgs)\n",
        "                _, predicted = torch.max(outputs, dim=1)\n",
        "                total += labels.shape[0]\n",
        "                correct += int((predicted == labels).sum())\n",
        " \n",
        "        print(\"Accuracy {}: {:.2f}\".format(name , correct / total))\n",
        " \n",
        "validate(model, train_loader, val_loader)"
      ],
      "execution_count": 98,
      "outputs": [
        {
          "output_type": "stream",
          "text": [
            "Accuracy train: 0.76\n",
            "Accuracy test: 0.72\n"
          ],
          "name": "stdout"
        }
      ]
    },
    {
      "cell_type": "markdown",
      "metadata": {
        "id": "zZSB3qefbyAa"
      },
      "source": [
        "# 2. Transfer learning - Finetuning Torchvision Models using VGG11"
      ]
    },
    {
      "cell_type": "markdown",
      "metadata": {
        "id": "-F0nLZ33qoBS"
      },
      "source": [
        "Using VGG-11"
      ]
    },
    {
      "cell_type": "code",
      "metadata": {
        "id": "v_jusnQLbxrp"
      },
      "source": [
        "from __future__ import print_function\n",
        "from __future__ import division\n",
        "import torch\n",
        "import torch.nn as nn\n",
        "import torch.optim as optim\n",
        "import numpy as np\n",
        "import torchvision\n",
        "from torchvision import datasets, models, transforms\n",
        "import matplotlib.pyplot as plt\n",
        "import time\n",
        "import os\n",
        "import copy\n"
      ],
      "execution_count": 132,
      "outputs": []
    },
    {
      "cell_type": "code",
      "metadata": {
        "id": "2CmvbnnYmeFz"
      },
      "source": [
        "# top level data directory\n",
        "data_dir = DATA_PATH\n",
        "\n",
        "model_name = \"vgg\"\n",
        "\n",
        "# number of classes in the dataset\n",
        "num_classes = 2\n",
        "\n",
        "batch_size = 64\n",
        "\n",
        "num_epochs = 100\n",
        "\n",
        "# Flag for feature extracting. When False, it finetune the whole model,\n",
        "# when True it only updates the reshaped layer params\n",
        "feature_extract = False"
      ],
      "execution_count": 133,
      "outputs": []
    },
    {
      "cell_type": "code",
      "metadata": {
        "id": "zCuc6uvzm_08"
      },
      "source": [
        "def train_model(model, dataloaders, criterion, optimizer, num_epochs = 25, is_inception = False):\n",
        "    since = time.time()\n",
        "\n",
        "    val_acc_history = []\n",
        "\n",
        "    best_model_wts = copy.deepcopy(model.state_dict())\n",
        "    best_acc = 0.0\n",
        "\n",
        "    for epoch in range(num_epochs):\n",
        "        print('Epoch {}/{}'.format(epoch, num_epochs - 1))\n",
        "        print('-' * 10)\n",
        "\n",
        "        # Each epoch has a training and validation phase\n",
        "        for phase in ['train', 'val']:\n",
        "            if phase == 'train':\n",
        "                model.train()  # Set model to training mode\n",
        "            else:\n",
        "                model.eval()   # Set model to evaluate mode\n",
        "\n",
        "            running_loss = 0.0\n",
        "            running_corrects = 0\n",
        "\n",
        "            # Iterate over data.\n",
        "            for inputs, labels in dataloaders[phase]:\n",
        "                inputs = inputs.to(device)\n",
        "                labels = labels.to(device)\n",
        "\n",
        "                # zero the parameter gradients\n",
        "                optimizer.zero_grad()\n",
        "\n",
        "                # forward\n",
        "                # track history if only in train\n",
        "                with torch.set_grad_enabled(phase == 'train'):\n",
        "                    # Get model outputs and calculate loss\n",
        "                    # Special case for inception because in training it has an auxiliary output. In train\n",
        "                    #   mode we calculate the loss by summing the final output and the auxiliary output\n",
        "                    #   but in testing we only consider the final output.\n",
        "                    if is_inception and phase == 'train':\n",
        "                        # From https://discuss.pytorch.org/t/how-to-optimize-inception-model-with-auxiliary-classifiers/7958\n",
        "                        outputs, aux_outputs = model(inputs)\n",
        "                        loss1 = criterion(outputs, labels)\n",
        "                        loss2 = criterion(aux_outputs, labels)\n",
        "                        loss = loss1 + 0.4*loss2\n",
        "                    else:\n",
        "                        outputs = model(inputs)\n",
        "                        loss = criterion(outputs, labels)\n",
        "\n",
        "                    _, preds = torch.max(outputs, 1)\n",
        "\n",
        "                    # backward + optimize only if in training phase\n",
        "                    if phase == 'train':\n",
        "                        loss.backward()\n",
        "                        optimizer.step()\n",
        "\n",
        "                # statistics\n",
        "                running_loss += loss.item() * inputs.size(0)\n",
        "                running_corrects += torch.sum(preds == labels.data)\n",
        "\n",
        "            epoch_loss = running_loss / len(dataloaders[phase].dataset)\n",
        "            epoch_acc = running_corrects.double() / len(dataloaders[phase].dataset)\n",
        "\n",
        "            print('{} Loss: {:.4f} Acc: {:.4f}'.format(phase, epoch_loss, epoch_acc))\n",
        "\n",
        "            # deep copy the model\n",
        "            if phase == 'val' and epoch_acc > best_acc:\n",
        "                best_acc = epoch_acc\n",
        "                best_model_wts = copy.deepcopy(model.state_dict())\n",
        "            if phase == 'val':\n",
        "                val_acc_history.append(epoch_acc)\n",
        "\n",
        "        print()\n",
        "\n",
        "    time_elapsed = time.time() - since\n",
        "    print('Training complete in {:.0f}m {:.0f}s'.format(time_elapsed // 60, time_elapsed % 60))\n",
        "    print('Best val Acc: {:4f}'.format(best_acc))\n",
        "\n",
        "    # load best model weights\n",
        "    model.load_state_dict(best_model_wts)\n",
        "    return model, val_acc_history"
      ],
      "execution_count": 134,
      "outputs": []
    },
    {
      "cell_type": "code",
      "metadata": {
        "id": "LQzoT99YwJSo"
      },
      "source": [
        "def set_parameter_requires_grad(model, feature_extracting):\n",
        "    if feature_extracting:\n",
        "        for param in model.parameters():\n",
        "            param.requires_grad = False"
      ],
      "execution_count": 135,
      "outputs": []
    },
    {
      "cell_type": "code",
      "metadata": {
        "id": "Be2aiTmBwUXL",
        "outputId": "0f87c220-cbbf-4885-a243-b9f8c10a1d18",
        "colab": {
          "base_uri": "https://localhost:8080/"
        }
      },
      "source": [
        "model = torch.hub.load('pytorch/vision:v0.6.0', 'vgg11', pretrained = False)"
      ],
      "execution_count": 136,
      "outputs": [
        {
          "output_type": "stream",
          "text": [
            "Using cache found in /root/.cache/torch/hub/pytorch_vision_v0.6.0\n"
          ],
          "name": "stderr"
        }
      ]
    },
    {
      "cell_type": "code",
      "metadata": {
        "id": "Yf6dW1-qwoV2",
        "outputId": "485fc7b3-bbc7-4cf9-b642-4166c36684a4",
        "colab": {
          "base_uri": "https://localhost:8080/"
        }
      },
      "source": [
        "print(model)"
      ],
      "execution_count": 137,
      "outputs": [
        {
          "output_type": "stream",
          "text": [
            "VGG(\n",
            "  (features): Sequential(\n",
            "    (0): Conv2d(3, 64, kernel_size=(3, 3), stride=(1, 1), padding=(1, 1))\n",
            "    (1): ReLU(inplace=True)\n",
            "    (2): MaxPool2d(kernel_size=2, stride=2, padding=0, dilation=1, ceil_mode=False)\n",
            "    (3): Conv2d(64, 128, kernel_size=(3, 3), stride=(1, 1), padding=(1, 1))\n",
            "    (4): ReLU(inplace=True)\n",
            "    (5): MaxPool2d(kernel_size=2, stride=2, padding=0, dilation=1, ceil_mode=False)\n",
            "    (6): Conv2d(128, 256, kernel_size=(3, 3), stride=(1, 1), padding=(1, 1))\n",
            "    (7): ReLU(inplace=True)\n",
            "    (8): Conv2d(256, 256, kernel_size=(3, 3), stride=(1, 1), padding=(1, 1))\n",
            "    (9): ReLU(inplace=True)\n",
            "    (10): MaxPool2d(kernel_size=2, stride=2, padding=0, dilation=1, ceil_mode=False)\n",
            "    (11): Conv2d(256, 512, kernel_size=(3, 3), stride=(1, 1), padding=(1, 1))\n",
            "    (12): ReLU(inplace=True)\n",
            "    (13): Conv2d(512, 512, kernel_size=(3, 3), stride=(1, 1), padding=(1, 1))\n",
            "    (14): ReLU(inplace=True)\n",
            "    (15): MaxPool2d(kernel_size=2, stride=2, padding=0, dilation=1, ceil_mode=False)\n",
            "    (16): Conv2d(512, 512, kernel_size=(3, 3), stride=(1, 1), padding=(1, 1))\n",
            "    (17): ReLU(inplace=True)\n",
            "    (18): Conv2d(512, 512, kernel_size=(3, 3), stride=(1, 1), padding=(1, 1))\n",
            "    (19): ReLU(inplace=True)\n",
            "    (20): MaxPool2d(kernel_size=2, stride=2, padding=0, dilation=1, ceil_mode=False)\n",
            "  )\n",
            "  (avgpool): AdaptiveAvgPool2d(output_size=(7, 7))\n",
            "  (classifier): Sequential(\n",
            "    (0): Linear(in_features=25088, out_features=4096, bias=True)\n",
            "    (1): ReLU(inplace=True)\n",
            "    (2): Dropout(p=0.5, inplace=False)\n",
            "    (3): Linear(in_features=4096, out_features=4096, bias=True)\n",
            "    (4): ReLU(inplace=True)\n",
            "    (5): Dropout(p=0.5, inplace=False)\n",
            "    (6): Linear(in_features=4096, out_features=1000, bias=True)\n",
            "  )\n",
            ")\n"
          ],
          "name": "stdout"
        }
      ]
    },
    {
      "cell_type": "code",
      "metadata": {
        "id": "E912WrbhxilP"
      },
      "source": [
        "model.classifier[6] = nn.Linear(4096, 2)"
      ],
      "execution_count": 138,
      "outputs": []
    },
    {
      "cell_type": "code",
      "metadata": {
        "id": "fWTypxvn1x0u"
      },
      "source": [
        "model_ft = models.vgg11_bn(pretrained = True)\n",
        "set_parameter_requires_grad(model_ft, feature_extract)\n",
        "num_ftrs = model_ft.classifier[6].in_features\n",
        "model_ft.classifier[6] = nn.Linear(num_ftrs,num_classes)\n",
        "input_size = 32"
      ],
      "execution_count": 139,
      "outputs": []
    },
    {
      "cell_type": "code",
      "metadata": {
        "id": "G8Sog4Pg3b6O"
      },
      "source": [
        "device = torch.device(\"cuda:0\" if torch.cuda.is_available() else \"cpu\")\n",
        "model_ft = model_ft.to(device)"
      ],
      "execution_count": 140,
      "outputs": []
    },
    {
      "cell_type": "code",
      "metadata": {
        "id": "J0Hql8nL44ju",
        "outputId": "36f35d2b-e60e-467f-b3d1-3b7b0e69c749",
        "colab": {
          "base_uri": "https://localhost:8080/"
        }
      },
      "source": [
        "#  finetuning we will be updating all parameters. However, if we are\n",
        "#  doing feature extract method, we will only update the parameters\n",
        "#  that we have just initialized, i.e. the parameters with requires_grad\n",
        "#  is True.\n",
        "params_to_update = model_ft.parameters()\n",
        "print(\"Params to learn:\")\n",
        "if feature_extract:\n",
        "    params_to_update = []\n",
        "    for name,param in model_ft.named_parameters():\n",
        "        if param.requires_grad == True:\n",
        "            params_to_update.append(param)\n",
        "            print(\"\\t\",name)\n",
        "else:\n",
        "    for name,param in model_ft.named_parameters():\n",
        "        if param.requires_grad == True:\n",
        "            print(\"\\t\",name)\n",
        "\n",
        "# Observe that all parameters are being optimized\n",
        "optimizer_ft = optim.SGD(params_to_update, lr = 0.001, momentum = 0.9)"
      ],
      "execution_count": 141,
      "outputs": [
        {
          "output_type": "stream",
          "text": [
            "Params to learn:\n",
            "\t features.0.weight\n",
            "\t features.0.bias\n",
            "\t features.1.weight\n",
            "\t features.1.bias\n",
            "\t features.4.weight\n",
            "\t features.4.bias\n",
            "\t features.5.weight\n",
            "\t features.5.bias\n",
            "\t features.8.weight\n",
            "\t features.8.bias\n",
            "\t features.9.weight\n",
            "\t features.9.bias\n",
            "\t features.11.weight\n",
            "\t features.11.bias\n",
            "\t features.12.weight\n",
            "\t features.12.bias\n",
            "\t features.15.weight\n",
            "\t features.15.bias\n",
            "\t features.16.weight\n",
            "\t features.16.bias\n",
            "\t features.18.weight\n",
            "\t features.18.bias\n",
            "\t features.19.weight\n",
            "\t features.19.bias\n",
            "\t features.22.weight\n",
            "\t features.22.bias\n",
            "\t features.23.weight\n",
            "\t features.23.bias\n",
            "\t features.25.weight\n",
            "\t features.25.bias\n",
            "\t features.26.weight\n",
            "\t features.26.bias\n",
            "\t classifier.0.weight\n",
            "\t classifier.0.bias\n",
            "\t classifier.3.weight\n",
            "\t classifier.3.bias\n",
            "\t classifier.6.weight\n",
            "\t classifier.6.bias\n"
          ],
          "name": "stdout"
        }
      ]
    },
    {
      "cell_type": "code",
      "metadata": {
        "id": "up38lRs27_Bt",
        "outputId": "0170dc2f-56ac-4dc4-a00e-edfd5272f52f",
        "colab": {
          "base_uri": "https://localhost:8080/"
        }
      },
      "source": [
        "data_transforms = {\n",
        "    'train': augmentation_1,\n",
        "    'val': transforms.Compose([\n",
        "        transforms.ToTensor(),normalization]),\n",
        "}\n",
        "\n",
        "# Create training and validation dataloaders\n",
        "print(type(X_eval))\n",
        "print(type(X_train))\n",
        "X_train_1 = DataLoader(X_train, batch_size = batch_size, shuffle = True, num_workers = 8)\n",
        "X_eval_1 = DataLoader(X_eval, batch_size = batch_size, shuffle = True, num_workers = 8) \n",
        "print(type(X_eval_1))\n",
        "print(type(X_train_1))\n",
        "dataloaders_dict = {'train': X_train_1, 'val': X_eval_1}"
      ],
      "execution_count": 142,
      "outputs": [
        {
          "output_type": "stream",
          "text": [
            "<class 'torch.utils.data.dataset.Subset'>\n",
            "<class 'torch.utils.data.dataset.Subset'>\n",
            "<class 'torch.utils.data.dataloader.DataLoader'>\n",
            "<class 'torch.utils.data.dataloader.DataLoader'>\n"
          ],
          "name": "stdout"
        }
      ]
    },
    {
      "cell_type": "code",
      "metadata": {
        "id": "feysU0jb5LOz",
        "outputId": "ce0bf170-94be-46b8-e538-b8f8dfee9e62",
        "colab": {
          "base_uri": "https://localhost:8080/"
        }
      },
      "source": [
        "# Setup the loss fxn\n",
        "criterion = nn.CrossEntropyLoss()\n",
        "# Train and evaluate\n",
        "model_ft, hist = train_model(model_ft, dataloaders_dict, criterion, \n",
        "                             optimizer_ft, num_epochs = num_epochs, \n",
        "                             is_inception = False)"
      ],
      "execution_count": 143,
      "outputs": [
        {
          "output_type": "stream",
          "text": [
            "Epoch 0/99\n",
            "----------\n",
            "train Loss: 0.7583 Acc: 0.4765\n",
            "val Loss: 0.6558 Acc: 0.6667\n",
            "\n",
            "Epoch 1/99\n",
            "----------\n",
            "train Loss: 0.6853 Acc: 0.5353\n",
            "val Loss: 0.6746 Acc: 0.5667\n",
            "\n",
            "Epoch 2/99\n",
            "----------\n",
            "train Loss: 0.6597 Acc: 0.5882\n",
            "val Loss: 0.5856 Acc: 0.6667\n",
            "\n",
            "Epoch 3/99\n",
            "----------\n",
            "train Loss: 0.6249 Acc: 0.6412\n",
            "val Loss: 0.5558 Acc: 0.7000\n",
            "\n",
            "Epoch 4/99\n",
            "----------\n",
            "train Loss: 0.5704 Acc: 0.6824\n",
            "val Loss: 0.4951 Acc: 0.8000\n",
            "\n",
            "Epoch 5/99\n",
            "----------\n",
            "train Loss: 0.5498 Acc: 0.7412\n",
            "val Loss: 0.4856 Acc: 0.7667\n",
            "\n",
            "Epoch 6/99\n",
            "----------\n",
            "train Loss: 0.5260 Acc: 0.7765\n",
            "val Loss: 0.4294 Acc: 0.7667\n",
            "\n",
            "Epoch 7/99\n",
            "----------\n",
            "train Loss: 0.5056 Acc: 0.7765\n",
            "val Loss: 0.4097 Acc: 0.8333\n",
            "\n",
            "Epoch 8/99\n",
            "----------\n",
            "train Loss: 0.4431 Acc: 0.7941\n",
            "val Loss: 0.4147 Acc: 0.8333\n",
            "\n",
            "Epoch 9/99\n",
            "----------\n",
            "train Loss: 0.4120 Acc: 0.8000\n",
            "val Loss: 0.4173 Acc: 0.9000\n",
            "\n",
            "Epoch 10/99\n",
            "----------\n",
            "train Loss: 0.3394 Acc: 0.8412\n",
            "val Loss: 0.3914 Acc: 0.8333\n",
            "\n",
            "Epoch 11/99\n",
            "----------\n",
            "train Loss: 0.3957 Acc: 0.7882\n",
            "val Loss: 0.3992 Acc: 0.8000\n",
            "\n",
            "Epoch 12/99\n",
            "----------\n",
            "train Loss: 0.3645 Acc: 0.8294\n",
            "val Loss: 0.4007 Acc: 0.8333\n",
            "\n",
            "Epoch 13/99\n",
            "----------\n",
            "train Loss: 0.3100 Acc: 0.8765\n",
            "val Loss: 0.3811 Acc: 0.8000\n",
            "\n",
            "Epoch 14/99\n",
            "----------\n",
            "train Loss: 0.2713 Acc: 0.8588\n",
            "val Loss: 0.3967 Acc: 0.8333\n",
            "\n",
            "Epoch 15/99\n",
            "----------\n",
            "train Loss: 0.2786 Acc: 0.8706\n",
            "val Loss: 0.4430 Acc: 0.8333\n",
            "\n",
            "Epoch 16/99\n",
            "----------\n",
            "train Loss: 0.2366 Acc: 0.8941\n",
            "val Loss: 0.4550 Acc: 0.7000\n",
            "\n",
            "Epoch 17/99\n",
            "----------\n",
            "train Loss: 0.3045 Acc: 0.8706\n",
            "val Loss: 0.5385 Acc: 0.8333\n",
            "\n",
            "Epoch 18/99\n",
            "----------\n",
            "train Loss: 0.2389 Acc: 0.9000\n",
            "val Loss: 0.6101 Acc: 0.8000\n",
            "\n",
            "Epoch 19/99\n",
            "----------\n",
            "train Loss: 0.2727 Acc: 0.8765\n",
            "val Loss: 0.4293 Acc: 0.8333\n",
            "\n",
            "Epoch 20/99\n",
            "----------\n",
            "train Loss: 0.1715 Acc: 0.9412\n",
            "val Loss: 0.5799 Acc: 0.8000\n",
            "\n",
            "Epoch 21/99\n",
            "----------\n",
            "train Loss: 0.1982 Acc: 0.9059\n",
            "val Loss: 0.3847 Acc: 0.9000\n",
            "\n",
            "Epoch 22/99\n",
            "----------\n",
            "train Loss: 0.1482 Acc: 0.9471\n",
            "val Loss: 0.5872 Acc: 0.8333\n",
            "\n",
            "Epoch 23/99\n",
            "----------\n",
            "train Loss: 0.1253 Acc: 0.9412\n",
            "val Loss: 0.4518 Acc: 0.8333\n",
            "\n",
            "Epoch 24/99\n",
            "----------\n",
            "train Loss: 0.1694 Acc: 0.9353\n",
            "val Loss: 0.6798 Acc: 0.8333\n",
            "\n",
            "Epoch 25/99\n",
            "----------\n",
            "train Loss: 0.1897 Acc: 0.9294\n",
            "val Loss: 0.4414 Acc: 0.8000\n",
            "\n",
            "Epoch 26/99\n",
            "----------\n",
            "train Loss: 0.1431 Acc: 0.9529\n",
            "val Loss: 0.3412 Acc: 0.8333\n",
            "\n",
            "Epoch 27/99\n",
            "----------\n",
            "train Loss: 0.1183 Acc: 0.9588\n",
            "val Loss: 0.4867 Acc: 0.7667\n",
            "\n",
            "Epoch 28/99\n",
            "----------\n",
            "train Loss: 0.1226 Acc: 0.9471\n",
            "val Loss: 0.2865 Acc: 0.8667\n",
            "\n",
            "Epoch 29/99\n",
            "----------\n",
            "train Loss: 0.1214 Acc: 0.9588\n",
            "val Loss: 0.7026 Acc: 0.8667\n",
            "\n",
            "Epoch 30/99\n",
            "----------\n",
            "train Loss: 0.0923 Acc: 0.9706\n",
            "val Loss: 0.6816 Acc: 0.8000\n",
            "\n",
            "Epoch 31/99\n",
            "----------\n",
            "train Loss: 0.0838 Acc: 0.9647\n",
            "val Loss: 0.5697 Acc: 0.7667\n",
            "\n",
            "Epoch 32/99\n",
            "----------\n",
            "train Loss: 0.0800 Acc: 0.9765\n",
            "val Loss: 0.5809 Acc: 0.8333\n",
            "\n",
            "Epoch 33/99\n",
            "----------\n",
            "train Loss: 0.1001 Acc: 0.9706\n",
            "val Loss: 0.4502 Acc: 0.8333\n",
            "\n",
            "Epoch 34/99\n",
            "----------\n",
            "train Loss: 0.0521 Acc: 0.9882\n",
            "val Loss: 0.7799 Acc: 0.8000\n",
            "\n",
            "Epoch 35/99\n",
            "----------\n",
            "train Loss: 0.0607 Acc: 0.9824\n",
            "val Loss: 0.5163 Acc: 0.8667\n",
            "\n",
            "Epoch 36/99\n",
            "----------\n",
            "train Loss: 0.0604 Acc: 0.9824\n",
            "val Loss: 0.6925 Acc: 0.8667\n",
            "\n",
            "Epoch 37/99\n",
            "----------\n",
            "train Loss: 0.0659 Acc: 0.9824\n",
            "val Loss: 0.6532 Acc: 0.8667\n",
            "\n",
            "Epoch 38/99\n",
            "----------\n",
            "train Loss: 0.1188 Acc: 0.9529\n",
            "val Loss: 0.5006 Acc: 0.9000\n",
            "\n",
            "Epoch 39/99\n",
            "----------\n",
            "train Loss: 0.0674 Acc: 0.9706\n",
            "val Loss: 0.4718 Acc: 0.8667\n",
            "\n",
            "Epoch 40/99\n",
            "----------\n",
            "train Loss: 0.0420 Acc: 0.9824\n",
            "val Loss: 0.8933 Acc: 0.8333\n",
            "\n",
            "Epoch 41/99\n",
            "----------\n",
            "train Loss: 0.0510 Acc: 0.9882\n",
            "val Loss: 0.4463 Acc: 0.9000\n",
            "\n",
            "Epoch 42/99\n",
            "----------\n",
            "train Loss: 0.0337 Acc: 1.0000\n",
            "val Loss: 0.3500 Acc: 0.9333\n",
            "\n",
            "Epoch 43/99\n",
            "----------\n",
            "train Loss: 0.0347 Acc: 0.9941\n",
            "val Loss: 0.3942 Acc: 0.9000\n",
            "\n",
            "Epoch 44/99\n",
            "----------\n",
            "train Loss: 0.0737 Acc: 0.9706\n",
            "val Loss: 0.4754 Acc: 0.8333\n",
            "\n",
            "Epoch 45/99\n",
            "----------\n",
            "train Loss: 0.0479 Acc: 0.9882\n",
            "val Loss: 0.5483 Acc: 0.9000\n",
            "\n",
            "Epoch 46/99\n",
            "----------\n",
            "train Loss: 0.0448 Acc: 0.9882\n",
            "val Loss: 0.3464 Acc: 0.9000\n",
            "\n",
            "Epoch 47/99\n",
            "----------\n",
            "train Loss: 0.0737 Acc: 0.9647\n",
            "val Loss: 0.3834 Acc: 0.9000\n",
            "\n",
            "Epoch 48/99\n",
            "----------\n",
            "train Loss: 0.0747 Acc: 0.9706\n",
            "val Loss: 0.4499 Acc: 0.9000\n",
            "\n",
            "Epoch 49/99\n",
            "----------\n",
            "train Loss: 0.0263 Acc: 0.9941\n",
            "val Loss: 0.4878 Acc: 0.8667\n",
            "\n",
            "Epoch 50/99\n",
            "----------\n",
            "train Loss: 0.0677 Acc: 0.9824\n",
            "val Loss: 0.4501 Acc: 0.8667\n",
            "\n",
            "Epoch 51/99\n",
            "----------\n",
            "train Loss: 0.0312 Acc: 0.9941\n",
            "val Loss: 0.5946 Acc: 0.8667\n",
            "\n",
            "Epoch 52/99\n",
            "----------\n",
            "train Loss: 0.0871 Acc: 0.9588\n",
            "val Loss: 0.5861 Acc: 0.8000\n",
            "\n",
            "Epoch 53/99\n",
            "----------\n",
            "train Loss: 0.0180 Acc: 1.0000\n",
            "val Loss: 0.6430 Acc: 0.9000\n",
            "\n",
            "Epoch 54/99\n",
            "----------\n",
            "train Loss: 0.0570 Acc: 0.9824\n",
            "val Loss: 0.8207 Acc: 0.8000\n",
            "\n",
            "Epoch 55/99\n",
            "----------\n",
            "train Loss: 0.0487 Acc: 0.9824\n",
            "val Loss: 0.5558 Acc: 0.8333\n",
            "\n",
            "Epoch 56/99\n",
            "----------\n",
            "train Loss: 0.0472 Acc: 0.9882\n",
            "val Loss: 0.7631 Acc: 0.8667\n",
            "\n",
            "Epoch 57/99\n",
            "----------\n",
            "train Loss: 0.0303 Acc: 0.9882\n",
            "val Loss: 0.2721 Acc: 0.9000\n",
            "\n",
            "Epoch 58/99\n",
            "----------\n",
            "train Loss: 0.0346 Acc: 0.9941\n",
            "val Loss: 0.8919 Acc: 0.8667\n",
            "\n",
            "Epoch 59/99\n",
            "----------\n",
            "train Loss: 0.0206 Acc: 1.0000\n",
            "val Loss: 0.5096 Acc: 0.8333\n",
            "\n",
            "Epoch 60/99\n",
            "----------\n",
            "train Loss: 0.0211 Acc: 0.9941\n",
            "val Loss: 0.5510 Acc: 0.9000\n",
            "\n",
            "Epoch 61/99\n",
            "----------\n",
            "train Loss: 0.0147 Acc: 1.0000\n",
            "val Loss: 0.5297 Acc: 0.8667\n",
            "\n",
            "Epoch 62/99\n",
            "----------\n",
            "train Loss: 0.0159 Acc: 1.0000\n",
            "val Loss: 0.5164 Acc: 0.8667\n",
            "\n",
            "Epoch 63/99\n",
            "----------\n",
            "train Loss: 0.0709 Acc: 0.9588\n",
            "val Loss: 0.7372 Acc: 0.8333\n",
            "\n",
            "Epoch 64/99\n",
            "----------\n",
            "train Loss: 0.0359 Acc: 0.9824\n",
            "val Loss: 0.4789 Acc: 0.8333\n",
            "\n",
            "Epoch 65/99\n",
            "----------\n",
            "train Loss: 0.0108 Acc: 1.0000\n",
            "val Loss: 0.8586 Acc: 0.8333\n",
            "\n",
            "Epoch 66/99\n",
            "----------\n",
            "train Loss: 0.0219 Acc: 1.0000\n",
            "val Loss: 0.6203 Acc: 0.8667\n",
            "\n",
            "Epoch 67/99\n",
            "----------\n",
            "train Loss: 0.0250 Acc: 0.9882\n",
            "val Loss: 0.4886 Acc: 0.8333\n",
            "\n",
            "Epoch 68/99\n",
            "----------\n",
            "train Loss: 0.0302 Acc: 0.9882\n",
            "val Loss: 0.5745 Acc: 0.8333\n",
            "\n",
            "Epoch 69/99\n",
            "----------\n",
            "train Loss: 0.0168 Acc: 1.0000\n",
            "val Loss: 0.5405 Acc: 0.8000\n",
            "\n",
            "Epoch 70/99\n",
            "----------\n",
            "train Loss: 0.0123 Acc: 1.0000\n",
            "val Loss: 0.6151 Acc: 0.8667\n",
            "\n",
            "Epoch 71/99\n",
            "----------\n",
            "train Loss: 0.0304 Acc: 0.9882\n",
            "val Loss: 0.8349 Acc: 0.8000\n",
            "\n",
            "Epoch 72/99\n",
            "----------\n",
            "train Loss: 0.0105 Acc: 1.0000\n",
            "val Loss: 0.4474 Acc: 0.9333\n",
            "\n",
            "Epoch 73/99\n",
            "----------\n",
            "train Loss: 0.0162 Acc: 1.0000\n",
            "val Loss: 0.6619 Acc: 0.8333\n",
            "\n",
            "Epoch 74/99\n",
            "----------\n",
            "train Loss: 0.0155 Acc: 0.9941\n",
            "val Loss: 0.4124 Acc: 0.9333\n",
            "\n",
            "Epoch 75/99\n",
            "----------\n",
            "train Loss: 0.0380 Acc: 0.9765\n",
            "val Loss: 0.4290 Acc: 0.9333\n",
            "\n",
            "Epoch 76/99\n",
            "----------\n",
            "train Loss: 0.0279 Acc: 0.9882\n",
            "val Loss: 0.4379 Acc: 0.8667\n",
            "\n",
            "Epoch 77/99\n",
            "----------\n",
            "train Loss: 0.0076 Acc: 0.9941\n",
            "val Loss: 0.6936 Acc: 0.8667\n",
            "\n",
            "Epoch 78/99\n",
            "----------\n",
            "train Loss: 0.0148 Acc: 0.9941\n",
            "val Loss: 0.6713 Acc: 0.9000\n",
            "\n",
            "Epoch 79/99\n",
            "----------\n",
            "train Loss: 0.0440 Acc: 0.9765\n",
            "val Loss: 0.7234 Acc: 0.8333\n",
            "\n",
            "Epoch 80/99\n",
            "----------\n",
            "train Loss: 0.0201 Acc: 0.9941\n",
            "val Loss: 0.8172 Acc: 0.8333\n",
            "\n",
            "Epoch 81/99\n",
            "----------\n",
            "train Loss: 0.0103 Acc: 1.0000\n",
            "val Loss: 0.9402 Acc: 0.8333\n",
            "\n",
            "Epoch 82/99\n",
            "----------\n",
            "train Loss: 0.0175 Acc: 0.9941\n",
            "val Loss: 0.6960 Acc: 0.8667\n",
            "\n",
            "Epoch 83/99\n",
            "----------\n",
            "train Loss: 0.0107 Acc: 1.0000\n",
            "val Loss: 0.5780 Acc: 0.8667\n",
            "\n",
            "Epoch 84/99\n",
            "----------\n",
            "train Loss: 0.0154 Acc: 0.9941\n",
            "val Loss: 0.6081 Acc: 0.8667\n",
            "\n",
            "Epoch 85/99\n",
            "----------\n",
            "train Loss: 0.0743 Acc: 0.9765\n",
            "val Loss: 0.6577 Acc: 0.8333\n",
            "\n",
            "Epoch 86/99\n",
            "----------\n",
            "train Loss: 0.0264 Acc: 0.9941\n",
            "val Loss: 0.8049 Acc: 0.8667\n",
            "\n",
            "Epoch 87/99\n",
            "----------\n",
            "train Loss: 0.0082 Acc: 1.0000\n",
            "val Loss: 0.6010 Acc: 0.9000\n",
            "\n",
            "Epoch 88/99\n",
            "----------\n",
            "train Loss: 0.0132 Acc: 0.9941\n",
            "val Loss: 0.3682 Acc: 0.9000\n",
            "\n",
            "Epoch 89/99\n",
            "----------\n",
            "train Loss: 0.0238 Acc: 0.9941\n",
            "val Loss: 0.7004 Acc: 0.9000\n",
            "\n",
            "Epoch 90/99\n",
            "----------\n",
            "train Loss: 0.0070 Acc: 1.0000\n",
            "val Loss: 0.5923 Acc: 0.8333\n",
            "\n",
            "Epoch 91/99\n",
            "----------\n",
            "train Loss: 0.0145 Acc: 0.9941\n",
            "val Loss: 0.4200 Acc: 0.8333\n",
            "\n",
            "Epoch 92/99\n",
            "----------\n",
            "train Loss: 0.0417 Acc: 0.9882\n",
            "val Loss: 0.9269 Acc: 0.8000\n",
            "\n",
            "Epoch 93/99\n",
            "----------\n",
            "train Loss: 0.0234 Acc: 0.9882\n",
            "val Loss: 0.3064 Acc: 0.9333\n",
            "\n",
            "Epoch 94/99\n",
            "----------\n",
            "train Loss: 0.0044 Acc: 1.0000\n",
            "val Loss: 0.7808 Acc: 0.9000\n",
            "\n",
            "Epoch 95/99\n",
            "----------\n",
            "train Loss: 0.0248 Acc: 0.9941\n",
            "val Loss: 0.5349 Acc: 0.8667\n",
            "\n",
            "Epoch 96/99\n",
            "----------\n",
            "train Loss: 0.0116 Acc: 0.9941\n",
            "val Loss: 0.5755 Acc: 0.9333\n",
            "\n",
            "Epoch 97/99\n",
            "----------\n",
            "train Loss: 0.0041 Acc: 1.0000\n",
            "val Loss: 0.6671 Acc: 0.8667\n",
            "\n",
            "Epoch 98/99\n",
            "----------\n",
            "train Loss: 0.0061 Acc: 1.0000\n",
            "val Loss: 0.7706 Acc: 0.8667\n",
            "\n",
            "Epoch 99/99\n",
            "----------\n",
            "train Loss: 0.0149 Acc: 0.9941\n",
            "val Loss: 0.4477 Acc: 0.8667\n",
            "\n",
            "Training complete in 2m 59s\n",
            "Best val Acc: 0.933333\n"
          ],
          "name": "stdout"
        }
      ]
    },
    {
      "cell_type": "code",
      "metadata": {
        "id": "Jn_nToOSP7cS",
        "outputId": "847e01c3-7b2c-4bfd-f3f7-1e049063c871",
        "colab": {
          "base_uri": "https://localhost:8080/"
        }
      },
      "source": [
        "torch.save(model_ft.state_dict(), DATA_PATH + 'second_attempt_vgg11.pt')\n",
        "model_ft = models.vgg11_bn(pretrained = True)\n",
        "set_parameter_requires_grad(model_ft, feature_extract)\n",
        "num_ftrs = model_ft.classifier[6].in_features\n",
        "model_ft.classifier[6] = nn.Linear(num_ftrs,num_classes)\n",
        "input_size = 32\n",
        "device = torch.device(\"cuda:0\" if torch.cuda.is_available() else \"cpu\")\n",
        "model_ft = model_ft.to(device)\n",
        "model_ft.load_state_dict(torch.load(DATA_PATH + 'second_attempt_vgg11.pt'))"
      ],
      "execution_count": 144,
      "outputs": [
        {
          "output_type": "execute_result",
          "data": {
            "text/plain": [
              "<All keys matched successfully>"
            ]
          },
          "metadata": {
            "tags": []
          },
          "execution_count": 144
        }
      ]
    },
    {
      "cell_type": "code",
      "metadata": {
        "id": "WCPEsX7bfQIr",
        "outputId": "6441616c-1f03-41d1-88a5-8d3d292ae418",
        "colab": {
          "base_uri": "https://localhost:8080/"
        }
      },
      "source": [
        "test_loader = torch.utils.data.DataLoader(test_set_n, batch_size = 64,\n",
        "                                         shuffle = True)\n",
        " \n",
        "def validate(model, train_loader, val_loader):\n",
        "    for name, loader in [(\"train\", train_loader), (\"test\", test_loader)]:\n",
        "        correct = 0\n",
        "        total = 0\n",
        " \n",
        "        with torch.no_grad():\n",
        "            for imgs, labels in loader:\n",
        "                imgs = imgs.to(device)\n",
        "                labels = labels.to(device)\n",
        "                outputs = model(imgs)\n",
        "                _, predicted = torch.max(outputs, dim=1)\n",
        "                total += labels.shape[0]\n",
        "                correct += int((predicted == labels).sum())\n",
        " \n",
        "        print(\"Accuracy {}: {:.2f}\".format(name , correct / total))\n",
        " \n",
        "validate(model_ft, train_loader, test_loader)"
      ],
      "execution_count": 146,
      "outputs": [
        {
          "output_type": "stream",
          "text": [
            "Accuracy train: 0.99\n",
            "Accuracy test: 0.75\n"
          ],
          "name": "stdout"
        }
      ]
    },
    {
      "cell_type": "markdown",
      "metadata": {
        "id": "nTsHxUk8EJct"
      },
      "source": [
        "## 2.1 Second attempt to transfer learning - Resnet18"
      ]
    },
    {
      "cell_type": "code",
      "metadata": {
        "id": "9aTdYIbSrJCJ"
      },
      "source": [
        "device = torch.device('cuda:0' if torch.cuda.is_available() else 'cpu')\n",
        "\n",
        "model = models.resnet18(pretrained = False)\n",
        "num_ftrs = model.fc.in_features\n",
        "\n",
        "'''\n",
        "Below I replace the original nn.Linear(model.fc.in_features, model.fc.out_features) with two layers,\n",
        "combined into a single nn.Sequential module: nn.Linear(model.fc.in_features, 1) that is followed by\n",
        "a Sigmoid layer.\n",
        "'''\n",
        "model.fc = nn.Sequential(nn.Linear(num_ftrs, 1), nn.Sigmoid())\n",
        "model = model.to(device)"
      ],
      "execution_count": 58,
      "outputs": []
    },
    {
      "cell_type": "code",
      "metadata": {
        "id": "YX2feawaEVzX",
        "outputId": "bb4ffde0-0bc6-4133-d267-1fc2d141ba3b",
        "colab": {
          "base_uri": "https://localhost:8080/",
          "height": 576
        }
      },
      "source": [
        "criterion = nn.BCELoss()\n",
        "\n",
        "optimizer = optim.SGD(model.parameters(), lr=0.0005, momentum=0.9)\n",
        "\n",
        "def train(model, device, train_loader, optimizer):\n",
        "    \n",
        "    # train() is the mode that \"turns on\" the non-deterministic layers\n",
        "    # that may be present in the model (e.g. dropout, batchnorm, etc)\n",
        "    model.train()\n",
        "    \n",
        "    epoch_loss = 0\n",
        "    \n",
        "    for batch_idx, (data, target) in enumerate(train_loader):\n",
        "        \n",
        "        data, target = data.to(device), target.type(torch.FloatTensor).to(device)\n",
        "        \n",
        "        optimizer.zero_grad()\n",
        "        output = model(data)\n",
        "        loss = criterion(output.squeeze(), target.squeeze())\n",
        "        loss.backward()\n",
        "        optimizer.step()\n",
        "        epoch_loss += loss.item()\n",
        "        \n",
        "    epoch_loss /= len(train_loader.dataset)\n",
        "    return epoch_loss\n",
        "\n",
        "\n",
        "def test(model, device, test_loader):\n",
        "    \n",
        "    # eval() is the mode that \"turns off\" the non-deterministic layers\n",
        "    # that may be present in the model (e.g. dropout, batchnorm, etc)\n",
        "    model.eval()\n",
        "    \n",
        "    test_loss = 0\n",
        "    correct = 0\n",
        "    \n",
        "    one = torch.ones(1, 1).to(device)\n",
        "    zero = torch.zeros(1, 1).to(device)\n",
        "    \n",
        "    with torch.no_grad():\n",
        "        for data, target in test_loader:\n",
        "            data, target = data.to(device), target.type(torch.FloatTensor).to(device)\n",
        "            output = model(data)\n",
        "            test_loss += criterion(output.squeeze(), target.squeeze()).item()  # sum up batch loss\n",
        "            pred = torch.where(output.squeeze()<0.5, zero, one)  # get the index of the max log-probability\n",
        "            correct += pred.eq(target.view_as(pred)).sum().item()\n",
        "\n",
        "    test_loss /= len(test_loader.dataset)    \n",
        "    return test_loss, (100. * correct / len(test_loader.dataset))\n",
        "\n",
        "train_losses = []\n",
        "val_losses = []\n",
        "val_accuracies = []\n",
        "\n",
        "num_epochs = 200\n",
        "\n",
        "best_model_wts = copy.deepcopy(model.state_dict())\n",
        "best_accuracy = 0.0\n",
        "    \n",
        "for epoch in range(1, num_epochs+1):\n",
        "    train_losses.append(train(model, device, train_loader, optimizer))\n",
        "    val_loss, val_accuracy = test(model, device, val_loader)\n",
        "    val_losses.append(val_loss)\n",
        "    val_accuracies.append(val_accuracy)\n",
        "    if val_accuracy > best_accuracy:\n",
        "        best_accuracy = val_accuracy\n",
        "        best_model_wts = copy.deepcopy(model.state_dict())\n",
        "\n",
        "      \n",
        "plt.plot(range(1, num_epochs+1), np.array(train_losses))\n",
        "plt.ylabel('Train loss')\n",
        "plt.xlabel('epochs')\n",
        "plt.show()\n",
        "\n",
        "fig, ax1 = plt.subplots()\n",
        "\n",
        "color = 'tab:red'\n",
        "ax1.set_xlabel('epochs')\n",
        "ax1.set_ylabel('VAL loss', color=color)\n",
        "ax1.plot(range(1, num_epochs+1), np.array(val_losses), color=color)\n",
        "ax1.tick_params(axis='y', labelcolor=color)\n",
        "\n",
        "ax2 = ax1.twinx() \n",
        "\n",
        "color = 'tab:blue'\n",
        "ax2.set_ylabel('VAL accuracy', color=color)  \n",
        "ax2.plot(range(1, num_epochs+1), np.array(val_accuracies), color=color)\n",
        "ax2.tick_params(axis='y', labelcolor=color)\n",
        "\n",
        "fig.tight_layout()  \n",
        "plt.show()\n",
        "\n",
        "# load best model weights\n",
        "model.load_state_dict(best_model_wts)\n",
        "_, test_accuracy = test(model, device, test_loader)\n",
        "print(\"Accuracy on the test set: \", test_accuracy)"
      ],
      "execution_count": 59,
      "outputs": [
        {
          "output_type": "display_data",
          "data": {
            "image/png": "[encoded data removed]",
            "text/plain": [
              "<Figure size 432x288 with 1 Axes>"
            ]
          },
          "metadata": {
            "tags": [],
            "needs_background": "light"
          }
        },
        {
          "output_type": "display_data",
          "data": {
            "image/png": "[encoded data removed]",
            "text/plain": [
              "<Figure size 432x288 with 2 Axes>"
            ]
          },
          "metadata": {
            "tags": [],
            "needs_background": "light"
          }
        },
        {
          "output_type": "stream",
          "text": [
            "Accuracy on the test set:  70.33333333333333\n"
          ],
          "name": "stdout"
        }
      ]
    },
    {
      "cell_type": "code",
      "metadata": {
        "id": "hZ0-9DNyE4sP",
        "outputId": "ce82270c-1d83-4b8a-a3df-7b4390f8bc59",
        "colab": {
          "base_uri": "https://localhost:8080/"
        }
      },
      "source": [
        "torch.save(model.state_dict(), DATA_PATH + 'second_attempt_resnet_18.pt')\n",
        "model = Net().to(device=device)\n",
        "model.load_state_dict(torch.load(DATA_PATH + 'second_attempt_resnet_18.pt'))"
      ],
      "execution_count": 61,
      "outputs": [
        {
          "output_type": "execute_result",
          "data": {
            "text/plain": [
              "<All keys matched successfully>"
            ]
          },
          "metadata": {
            "tags": []
          },
          "execution_count": 61
        }
      ]
    },
    {
      "cell_type": "markdown",
      "metadata": {
        "id": "8YWQCwfwSDJg"
      },
      "source": [
        "Both VGG11 and Resnet18 did not achieve much better results than simple convolutional network. Most of the pre-trained models provided in torchvision.models have been trained on images sized 224x224 that come from a natural domain (e.g. the ImageNet). This difference from 32x32 images of moles in data set is what is behind the small improvement in the final accuracy that was achieve compared to the model that was trained from scratch (Part A above)."
      ]
    },
    {
      "cell_type": "markdown",
      "metadata": {
        "id": "3O_waf0OTUiM"
      },
      "source": [
        "# 3. Further research"
      ]
    },
    {
      "cell_type": "markdown",
      "metadata": {
        "id": "gX3MWClbTYRD"
      },
      "source": [
        "The \"semi supervised image classification\" query returns close to 200 results. Skimming the abstracts of the pre-prints that have been posted within the last year, we can see, for instance, the following semi-supervised learning (SSL) approaches:\n",
        "\n",
        "  - Consistency regularization: an SSL technique that involves augmenting unlabeled data and encouraging the model to be robust to the augmentations. (2003.12022)\n",
        "\n",
        "  - Semi-supervised teacher-student knowledge distillation: the teacher model gets trained on the labeled data, then makes predictions for the unlabeled data. The student model is then trained to mimic the top-confidence predictions of the teacher. (1905.00546, 2003.08797)\n",
        "\n",
        "  - Something graph-based that I would not know what to say about without reading the paper in depth.\n",
        "\n",
        "  - Generative SSL: a generative model, such as a Variational Autoencoder (VAE) or a Generative Adversarial Network (GAN) that is trained on the unlabeled data, is then used to help train the supervised model together with the labeled data. (1912.09784, 2002.12164)\n",
        "\n",
        "  etc"
      ]
    },
    {
      "cell_type": "code",
      "metadata": {
        "id": "XRBtaCO0IiVf"
      },
      "source": [
        ""
      ],
      "execution_count": null,
      "outputs": []
    }
  ]
}